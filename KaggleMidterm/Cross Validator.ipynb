{
 "cells": [
  {
   "cell_type": "code",
   "execution_count": 1,
   "metadata": {},
   "outputs": [
    {
     "name": "stdout",
     "output_type": "stream",
     "text": [
      "done\n"
     ]
    }
   ],
   "source": [
    "import pandas as pd\n",
    "import numpy as np\n",
    "import seaborn as sns\n",
    "import matplotlib.pyplot as plt\n",
    "from sklearn.metrics import confusion_matrix\n",
    "from sklearn.metrics import accuracy_score\n",
    "\n",
    "\n",
    "test = pd.read_csv('C:\\Users\\gydoy\\Documents\\EE379K\\KaggleMidterm\\\\test_final.csv')\n",
    "train = pd.read_csv('C:\\Users\\gydoy\\Documents\\EE379K\\KaggleMidterm\\\\train_final.csv')\n",
    "\n",
    "train_Y = train['Y']\n",
    "train_X = train.drop(['id', 'Y', 'F25', 'F26', 'F27'], axis=1)\n",
    "test_X = test.drop(['id'], axis=1)\n",
    "print(\"done\")\n",
    "\n"
   ]
  },
  {
   "cell_type": "code",
   "execution_count": 3,
   "metadata": {},
   "outputs": [
    {
     "name": "stderr",
     "output_type": "stream",
     "text": [
      "C:\\Users\\gydoy\\Anaconda2\\lib\\site-packages\\sklearn\\cross_validation.py:41: DeprecationWarning: This module was deprecated in version 0.18 in favor of the model_selection module into which all the refactored classes and functions are moved. Also note that the interface of the new CV iterators are different from that of this module. This module will be removed in 0.20.\n",
      "  \"This module will be removed in 0.20.\", DeprecationWarning)\n"
     ]
    }
   ],
   "source": [
    "\n",
    "#Drop redundant features\n",
    "train_X = train_X.drop(['F1', 'F2', 'F5', 'F9', 'F14'], axis=1)\n",
    "test_X = test_X.drop(['F1', 'F2', 'F5', 'F9', 'F14'], axis=1)\n",
    "\n",
    "## further splitting the training set into another test set that has predicted values\n",
    "from sklearn.cross_validation import train_test_split\n",
    "X_train, X_test, y_train, y_test = train_test_split(train_X, train_Y, test_size=0.33, random_state=0)"
   ]
  },
  {
   "cell_type": "code",
   "execution_count": 4,
   "metadata": {},
   "outputs": [
    {
     "name": "stdout",
     "output_type": "stream",
     "text": [
      "('Score list:', array([  2.76457085e+00,   2.26264946e+00,   1.35499490e+06,\n",
      "         4.97071462e+04,   2.20409334e-02,   1.11995425e+03,\n",
      "         1.80691874e-03,   1.40166949e+03,   2.97629796e+03,\n",
      "         1.72787974e-02,   9.89909460e+04,   1.04623890e+04,\n",
      "         1.90913542e-02,   2.44706724e+03,   6.25719781e-02,\n",
      "         2.15195561e-02,   1.27423761e+03,   4.66255946e-02,\n",
      "         1.90941133e+03]))\n"
     ]
    }
   ],
   "source": [
    "from sklearn.feature_selection import SelectKBest\n",
    "from sklearn.feature_selection import chi2\n",
    "\n",
    "# find best scored 10 features\n",
    "select_feature = SelectKBest(chi2, k=11).fit(train_X, train_Y)\n",
    "#print('Feature list:', train_X.columns)\n",
    "print('Score list:', select_feature.scores_)\n",
    "\n",
    "# objects = ('F3', 'F4', 'F6', 'F7', 'F8', 'F10','F11','F12','F13','F15','F16','F17','F18','F19','F20','F21','F22','F23','F24')\n",
    "# features = np.arange(len(objects))\n",
    "# plt.bar(features, select_feature.scores_, align='center', alpha=0.5)\n",
    "# plt.xticks(features, objects)\n",
    "# plt.ylabel('Feature scores')\n",
    "# plt.title('Features')\n",
    "# plt.show()\n",
    "\n",
    "x_train_2 = select_feature.transform(train_X)\n",
    "x_test_2 = select_feature.transform(test_X)"
   ]
  },
  {
   "cell_type": "code",
   "execution_count": 8,
   "metadata": {},
   "outputs": [
    {
     "name": "stdout",
     "output_type": "stream",
     "text": [
      "{'n_estimators': 200, 'learning_rate': 1}\n"
     ]
    }
   ],
   "source": [
    "from sklearn.ensemble import GradientBoostingRegressor\n",
    "from sklearn.ensemble import AdaBoostClassifier\n",
    "from sklearn import grid_search\n",
    "from sklearn.model_selection import GridSearchCV\n",
    "\n",
    "def gbr_param_selection(X, y, nfolds):\n",
    "    Cs = [200, 400, 1000]\n",
    "    lrs = [0.01, 0.2, 1]\n",
    "    param_grid = {'n_estimators': Cs, 'learning_rate' : lrs}\n",
    "    grid_search = GridSearchCV(AdaBoostClassifier(), param_grid, cv=nfolds)\n",
    "    grid_search.fit(X, y)\n",
    "    grid_search.best_params_\n",
    "    return grid_search.best_params_\n",
    "\n",
    "print gbr_param_selection(x_train_2, train_Y, 5)"
   ]
  },
  {
   "cell_type": "code",
   "execution_count": null,
   "metadata": {
    "collapsed": true
   },
   "outputs": [],
   "source": []
  }
 ],
 "metadata": {
  "kernelspec": {
   "display_name": "Python 2",
   "language": "python",
   "name": "python2"
  },
  "language_info": {
   "codemirror_mode": {
    "name": "ipython",
    "version": 2
   },
   "file_extension": ".py",
   "mimetype": "text/x-python",
   "name": "python",
   "nbconvert_exporter": "python",
   "pygments_lexer": "ipython2",
   "version": "2.7.14"
  }
 },
 "nbformat": 4,
 "nbformat_minor": 2
}
